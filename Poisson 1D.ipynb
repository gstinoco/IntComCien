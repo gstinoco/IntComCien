{
 "cells": [
  {
   "attachments": {},
   "cell_type": "markdown",
   "metadata": {},
   "source": [
    "# Poisson en 1D\n",
    "\n",
    "A continuación se presentan ejemplos de implementaciones para calcular numéricamente la solución de la ecuación de Poisson en una dimensión espacial.\n",
    "\n",
    "El problema a resolver es:\n",
    "\\begin{align}\n",
    "  \\frac{\\partial^2 \\phi}{\\partial x^2} = -f\n",
    "\\end{align}\n",
    "\n",
    "Sujeto a las condiciones:\n",
    "\\begin{align}\n",
    "  \\phi(x)_\\Omega = x\\cos(x)\n",
    "\\end{align}\n",
    "y\n",
    "\\begin{align}\n",
    "  f(x) = 2\\sin(x) + x\\cos(x)\n",
    "\\end{align}"
   ]
  },
  {
   "attachments": {},
   "cell_type": "markdown",
   "metadata": {},
   "source": [
    "## Importación de librerias\n",
    "\n",
    "Primero se hace la importación de las librerías necesarias para trabajar con cuestiones de computación científica en Python."
   ]
  },
  {
   "cell_type": "code",
   "execution_count": 1,
   "metadata": {},
   "outputs": [],
   "source": [
    "import numpy as np                                                              # Librería con funciones y arreglos de cómputo numérico.\n",
    "import matplotlib.pyplot as plt                                                 # Nos permitirá graficar los resultados."
   ]
  },
  {
   "attachments": {},
   "cell_type": "markdown",
   "metadata": {},
   "source": [
    "## Condiciones\n",
    "\n",
    "Se definen las funciones que actuarán como las condiciones del problema. Estas pueden cambiarse dependiendo del problema a modelar con la finalidad de cambiar el problema que se pretende resolver.\n",
    "\n",
    "En este caso, las funciones que se usarán son:\n",
    "\\begin{align}\n",
    "  \\phi(x) = x\\cos(x)\n",
    "\\end{align}\n",
    "y\n",
    "\\begin{align}\n",
    "  f(x) = 2\\sin(x) + x\\cos(x)\n",
    "\\end{align}"
   ]
  },
  {
   "cell_type": "code",
   "execution_count": 2,
   "metadata": {},
   "outputs": [],
   "source": [
    "def phi(x):                                                                     # Se define la función phi.\n",
    "    phi = x*np.cos(x)                                                           # Se agrega la expresión para la condición.\n",
    "    return phi                                                                  # Regresa el valor de la condición.\n",
    "\n",
    "def f(x):                                                                       # Se define la función phi.\n",
    "    f = 2*np.sin(x) + x*np.cos(x)                                               # Se agrega la expresión para la condición.\n",
    "    return f                                                                    # Regresa el valor de la condición."
   ]
  },
  {
   "attachments": {},
   "cell_type": "markdown",
   "metadata": {},
   "source": [
    "## Poisson 1D Matricial"
   ]
  },
  {
   "attachments": {},
   "cell_type": "markdown",
   "metadata": {},
   "source": [
    "### Inicialización de Variables\n",
    "Se inicializan algunas variables para la generación de la malla de la región en la cual se pretende resolver el problema."
   ]
  },
  {
   "cell_type": "code",
   "execution_count": null,
   "metadata": {},
   "outputs": [],
   "source": [
    "m      = 11                                                                     # Número de elementos que tendrá la discretización.\n",
    "x      = np.linspace(0,2*np.pi,m)                                               # Se hace la discretización del intervalo [0, 2pi].\n",
    "dx     = x[2] - x[1]                                                            # Se calcula h para el método de Diferencias Finitas.\n",
    "phi_ap = np.zeros([m])                                                          # Se inicializa la variable para la solución aproximada."
   ]
  },
  {
   "attachments": {},
   "cell_type": "markdown",
   "metadata": {},
   "source": [
    "### Condiciones de Frontera\n",
    "Se establecen las condiciones de frontera del problema. Para esto se evalua la función en los nodos de la frontera."
   ]
  },
  {
   "cell_type": "code",
   "execution_count": null,
   "metadata": {},
   "outputs": [],
   "source": [
    "alpha = phi(x[0])                                                               # Condición de frontera en x_0\n",
    "beta  = phi(x[-1])                                                              # Condición de frontera en x_m"
   ]
  },
  {
   "attachments": {},
   "cell_type": "markdown",
   "metadata": {},
   "source": [
    "### Matrices de Diferencias Finitas\n",
    "\n",
    "Se ensamblan las matrices para resolver el problema:\n",
    "  1. Ensamblaremos la matriz tridiagonal A, con los pesos de las diferencias.\n",
    "  2. Se ensambla la matriz rhs, con la información del lado derecho."
   ]
  },
  {
   "cell_type": "code",
   "execution_count": null,
   "metadata": {},
   "outputs": [],
   "source": [
    "dA   = np.diag(-2*np.ones(m-2))                                                 # Se genera la diagonal principal de la matriz con -2.\n",
    "dAp1 = np.diag(np.ones((m-2)-1), k = 1)                                         # Se genera la diagonal superior con 1.\n",
    "dAm1 = np.diag(np.ones((m-2)-1), k = -1)                                        # Se genera la diagonal inferior con 1.\n",
    "A    = dA + dAp1 + dAm1                                                         # Se ensambla la matriz tridiagonal.\n",
    "A    = A/dx**2                                                                  # Se dividen todos los valores de la matriz entre dx^2."
   ]
  },
  {
   "cell_type": "code",
   "execution_count": null,
   "metadata": {},
   "outputs": [],
   "source": [
    "rhs       = -f(x[1:m-1])                                                        # Se coloca toda la información del lado deracho en rhs.\n",
    "rhs[0]   -= alpha/dx**2                                                         # Se agrega la condición de frontera al lado derecho.\n",
    "rhs[m-3] -= beta/dx**2                                                          # Se agrega la condición de frontera al lado derecho."
   ]
  },
  {
   "attachments": {},
   "cell_type": "markdown",
   "metadata": {},
   "source": [
    "### Resolver el problema\n",
    "Se resuelve el problema lineal\n",
    "\\begin{align}\n",
    "    Au = rhs\n",
    "\\end{align}\n",
    "\n",
    "Además de que se incluyen las condiciones de frontera a la aproximación calculada."
   ]
  },
  {
   "cell_type": "code",
   "execution_count": null,
   "metadata": {},
   "outputs": [],
   "source": [
    "A = np.linalg.pinv(A)                                                           # La inversa nos servirá para multiplicar por el lado derecho.\n",
    "u = A@rhs                                                                       # Se multiplica la inversa por el lado derecho.\n",
    "\n",
    "phi_ap[1:m-1] = u                                                               # Se guardan los valores de u, que son la aproximación en los nodos interiores.\n",
    "phi_ap[0]     = alpha                                                           # Se guarda la condición inicial en la aproximación.\n",
    "phi_ap[-1]    = beta                                                            # Se guarda la condición inicial en la aproximación."
   ]
  },
  {
   "attachments": {},
   "cell_type": "markdown",
   "metadata": {},
   "source": [
    "### Solución exacta y graficación\n",
    "Calcularemos la solución exacta, con la finalidad de poder comparar nuestra aproximación y conocer que tan \"buena\" es la misma."
   ]
  },
  {
   "cell_type": "code",
   "execution_count": null,
   "metadata": {},
   "outputs": [],
   "source": [
    "x2 = np.linspace(0,2*np.pi,200)                                                 # Se crea una malla más fina para la solución exacta.\n",
    "phi_ex = phi(x2)                                                                # Se calcula la solución exacta."
   ]
  },
  {
   "cell_type": "code",
   "execution_count": null,
   "metadata": {},
   "outputs": [],
   "source": [
    "fig, (ax1, ax2) = plt.subplots(1, 2)                                            # Se hace una figura con dos figuras incrustadas.\n",
    "plt.rcParams[\"figure.figsize\"] = (10,5)                                         # Se define el tamaño de la figura principal.\n",
    "plt.suptitle('Ecuación de Poisson')                                             # Se pone un título a la figura principal.\n",
    "min  = phi_ex.min()                                                             # Se encuentra el valor mínimo de la solución para ajustar la gráfica.\n",
    "max  = phi_ex.max()                                                             # Se encuentra el valor máximo de la solución para ajustar la gráfica.\n",
    "\n",
    "ax1.set_title('Solución Aproximada')                                            # Se pone el título de la primera figura incrustada.\n",
    "ax1.plot(x, phi_ap)                                                             # Se grafica la solución aproximada en la primera figura incrustada.\n",
    "ax1.set_ylim([min,max])                                                         # Se establecen los ejes de la gráfica.\n",
    "\n",
    "ax2.set_title('Solución Exacta')                                                # Se pone el título de la segunda figura incrustada.\n",
    "ax2.plot(x2, phi_ex)                                                            # Se grafica la solución exacta en la segunda figura incrustada.\n",
    "ax2.set_ylim([min,max])                                                         # Se establecen los ejes de la gráfica.\n",
    "plt.show()                                                                      # Se muestra la figura."
   ]
  },
  {
   "attachments": {},
   "cell_type": "markdown",
   "metadata": {},
   "source": [
    "## Poisson 1D Iterativo"
   ]
  },
  {
   "attachments": {},
   "cell_type": "markdown",
   "metadata": {},
   "source": [
    "### Inicialización de Variables\n",
    "Se inicializan algunas variables para la generación de la malla de la región en la cual se pretende resolver el problema."
   ]
  },
  {
   "cell_type": "code",
   "execution_count": 3,
   "metadata": {},
   "outputs": [],
   "source": [
    "m      = 40                                                                     # Número de elementos que tendrá la discretización.\n",
    "x      = np.linspace(0,2*np.pi,m)                                               # Se hace la discretización del intervalo [0, 2pi].\n",
    "dx     = x[2] - x[1]                                                            # Se calcula h para el método de Diferencias Finitas.\n",
    "phi_ap = np.zeros([m])                                                          # Se inicializa la variable para la solución aproximada.\n",
    "err    = 1                                                                      # Se inicializa una diferencia, err, en 1 para asegurarnos de que haga por lo menos una iteración.\n",
    "tol    = np.sqrt(np.finfo(float).eps)                                           # Se establece una tolerancia que será la raíz cuadrada del épsilon de la computadora."
   ]
  },
  {
   "attachments": {},
   "cell_type": "markdown",
   "metadata": {},
   "source": [
    "### Condiciones de Frontera\n",
    "Se establecen las condiciones de frontera del problema. Para esto se evalua la función en los nodos de la frontera."
   ]
  },
  {
   "cell_type": "code",
   "execution_count": 4,
   "metadata": {},
   "outputs": [],
   "source": [
    "phi_ap[0]  = phi(x[0])                                                          # Condición de frontera en x_0\n",
    "phi_ap[-1] = phi(x[-1])                                                         # Condición de frontera en x_m"
   ]
  },
  {
   "attachments": {},
   "cell_type": "markdown",
   "metadata": {},
   "source": [
    "### Resolver el problema\n",
    "En este caso, el problema se resolverá iterativamente, tomando en cuenta la tolerancia para el error cometido de itación en interación establecida anteriormente."
   ]
  },
  {
   "cell_type": "code",
   "execution_count": 5,
   "metadata": {},
   "outputs": [],
   "source": [
    "while err >= tol:                                                               # Mientras que la diferencia sea más grande que la tolerancia.\n",
    "    err = 0                                                                     # Se escribe la diferencia como 0.\n",
    "    for i in range(1,m-2):                                                      # Para cada uno de los nodos interiores.\n",
    "        t   = (1/2)*(phi_ap[i-1] + phi_ap[i+1] - dx**2*f(x[i]))                 # Se calcula la aproximación en el nodo.\n",
    "        err = max(err, abs(t - phi_ap[i]))                                      # Se guarda la diferencia máxima entre la predicción y la solución nueva.\n",
    "        phi_ap[i] = t                                                           # Se gurda el valor calculado de la solución."
   ]
  },
  {
   "attachments": {},
   "cell_type": "markdown",
   "metadata": {},
   "source": [
    "### Solución exacta y graficación\n",
    "Calcularemos la solución exacta, con la finalidad de poder comparar nuestra aproximación y conocer que tan \"buena\" es la misma."
   ]
  },
  {
   "cell_type": "code",
   "execution_count": 6,
   "metadata": {},
   "outputs": [],
   "source": [
    "x2 = np.linspace(0,2*np.pi,200)                                                 # Se crea una malla más fina para la solución exacta.\n",
    "phi_ex = phi(x2)                                                                # Se calcula la solución exacta."
   ]
  },
  {
   "cell_type": "code",
   "execution_count": 7,
   "metadata": {},
   "outputs": [
    {
     "data": {
      "image/png": "[encoded data removed]",
      "text/plain": [
       "<Figure size 640x480 with 2 Axes>"
      ]
     },
     "metadata": {},
     "output_type": "display_data"
    }
   ],
   "source": [
    "fig, (ax1, ax2) = plt.subplots(1, 2)                                            # Se hace una figura con dos figuras incrustadas.\n",
    "plt.rcParams[\"figure.figsize\"] = (10,5)                                         # Se define el tamaño de la figura principal.\n",
    "plt.suptitle('Ecuación de Poisson')                                             # Se pone un título a la figura principal.\n",
    "minu  = phi_ex.min()                                                             # Se encuentra el valor mínimo de la solución para ajustar la gráfica.\n",
    "maxu  = phi_ex.max()                                                             # Se encuentra el valor máximo de la solución para ajustar la gráfica.\n",
    "\n",
    "ax1.set_title('Solución Aproximada')                                            # Se pone el título de la primera figura incrustada.\n",
    "ax1.plot(x, phi_ap)                                                             # Se grafica la solución aproximada en la primera figura incrustada.\n",
    "ax1.set_ylim([minu,maxu])                                                         # Se establecen los ejes de la gráfica.\n",
    "\n",
    "ax2.set_title('Solución Exacta')                                                # Se pone el título de la segunda figura incrustada.\n",
    "ax2.plot(x2, phi_ex)                                                            # Se grafica la solución exacta en la segunda figura incrustada.\n",
    "ax2.set_ylim([minu,maxu])                                                         # Se establecen los ejes de la gráfica.\n",
    "plt.show()                                                                      # Se muestra la figura."
   ]
  }
 ],
 "metadata": {
  "kernelspec": {
   "display_name": "base",
   "language": "python",
   "name": "python3"
  },
  "language_info": {
   "codemirror_mode": {
    "name": "ipython",
    "version": 3
   },
   "file_extension": ".py",
   "mimetype": "text/x-python",
   "name": "python",
   "nbconvert_exporter": "python",
   "pygments_lexer": "ipython3",
   "version": "3.9.13"
  },
  "orig_nbformat": 4
 },
 "nbformat": 4,
 "nbformat_minor": 2
}
