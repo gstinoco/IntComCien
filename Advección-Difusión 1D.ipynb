{
 "cells": [
  {
   "attachments": {},
   "cell_type": "markdown",
   "metadata": {},
   "source": [
    "# Advección-Difusión en 1D\n",
    "\n",
    "A continuación se presentan ejemplos de implementaciones para calcular numéricamente la solución de la ecuación de Advección-Difusión en una dimensión espacial.\n",
    "\n",
    "El problema a resolver es:\n",
    "\\begin{align}\n",
    "  \\frac{\\partial u}{\\partial t} = \\nu\\frac{\\partial^2 u}{\\partial t^2} - a\\frac{\\partial u}{\\partial x}\n",
    "\\end{align}\n",
    "\n",
    "Sujeto a las condiciones:\n",
    "\\begin{align}\n",
    "  u(x,t)_\\Omega = \\left(\\frac{1}{4t+1}\\right)e^{-\\frac{(x-0.3t-0.5)^2}{\\nu(4t+1)}}\n",
    "\\end{align}\n",
    "y\n",
    "\\begin{align}\n",
    "  u(x,t)\\mid_{t = 0} = e^{-\\frac{(x-0.5)^2}{\\nu}}\n",
    "\\end{align}"
   ]
  },
  {
   "attachments": {},
   "cell_type": "markdown",
   "metadata": {},
   "source": [
    "## Importación de librerias\n",
    "\n",
    "Primero se hace la importación de las librerías necesarias para trabajar con cuestiones de computación científica en Python."
   ]
  },
  {
   "cell_type": "code",
   "execution_count": null,
   "metadata": {},
   "outputs": [],
   "source": [
    "import numpy as np                                                              # Librería con funciones y arreglos de cómputo numérico.\n",
    "import matplotlib.pyplot as plt                                                 # Nos permitirá graficar los resultados."
   ]
  },
  {
   "attachments": {},
   "cell_type": "markdown",
   "metadata": {},
   "source": [
    "## Condiciones\n",
    "\n",
    "Se define la función con las condiciones del problema, en este caso, se usará la misma función como condición inicial y condición de frontera.\n",
    "\n",
    "En este caso, las función que se usará es:\n",
    "\\begin{align}\n",
    "  u(x,t) = \\left(\\frac{1}{4t+1}\\right)e^{-\\frac{(x-0.3t-0.5)^2}{\\nu(4t+1)}}\n",
    "\\end{align}\n"
   ]
  },
  {
   "cell_type": "code",
   "execution_count": null,
   "metadata": {},
   "outputs": [],
   "source": [
    "def u(x, t, a, v):                                                              # Se define la función u.\n",
    "    u = (1/(4*t+1))*np.exp(-(x-a*t-0.5)**2/(v*(4*t+1)))                         # Se agrega la expresión para la condición.\n",
    "    return u                                                                    # Regresa el valor de la condición."
   ]
  },
  {
   "attachments": {},
   "cell_type": "markdown",
   "metadata": {},
   "source": [
    "## Inicialización de Variables\n",
    "Se inicializan algunas variables para la generación de la malla de la región en la cual se pretende resolver el problema."
   ]
  },
  {
   "cell_type": "code",
   "execution_count": null,
   "metadata": {},
   "outputs": [],
   "source": [
    "m    = 11                                                                       # Número de elementos que tendrá la discretización.\n",
    "t    = 100                                                                      # Número de pasos en el tiempo.\n",
    "a    = 0.3                                                                      # Velocidad de transporte.\n",
    "v    = 0.02                                                                     # Coeficiente de difusión.\n",
    "\n",
    "x    = np.linspace(0,1,m)                                                       # Se hace la discretización del intervalo [0, 1].\n",
    "T    = np.linspace(0,1,t)                                                       # Se hace la discretización temporal del intervalo [0,1]\n",
    "dx   = x[1] - x[0]                                                              # Se calcula dx para el método de Diferencias Finitas.\n",
    "dt   = T[1] - T[0]                                                              # Se calcula dt para el método de Diferencias Finitas.\n",
    "u_ap = np.zeros([m,t])                                                          # Se inicializa la variable para la solución aproximada."
   ]
  },
  {
   "attachments": {},
   "cell_type": "markdown",
   "metadata": {},
   "source": [
    "## Resolvemos el problema de Advección-Difusión"
   ]
  },
  {
   "attachments": {},
   "cell_type": "markdown",
   "metadata": {},
   "source": [
    "### Condiciones Iniciales y de Frontera\n",
    "Se establecen las condiciones iniciales y de frontera del problema."
   ]
  },
  {
   "cell_type": "code",
   "execution_count": null,
   "metadata": {},
   "outputs": [],
   "source": [
    "for i in range(m):                                                              # Para cada uno de los nodos.\n",
    "    u_ap[i,0] = u(x[i], T[0], a, v)                                             # Se asigna la condición inicial.\n",
    "\n",
    "for k in range(t):                                                              # Para cada paso de tiempo.\n",
    "    u_ap[0,k]  = u(x[0], T[k], a, v)                                            # Se agrega la condición de frontera en x = 0.\n",
    "    u_ap[-1,k] = u(x[-1], T[k], a, v)                                           # Se agrega la condición de frontera en x = 1."
   ]
  },
  {
   "attachments": {},
   "cell_type": "markdown",
   "metadata": {},
   "source": [
    "Se resuelve el problema de difusión usando diferencias finitas centradas en el espacio."
   ]
  },
  {
   "cell_type": "code",
   "execution_count": null,
   "metadata": {},
   "outputs": [],
   "source": [
    "for k in range(1, t):                                                           # Para todos los pasos de tiempo.\n",
    "    for i in range(1,m-1):                                                      # Para todos los nodos.\n",
    "        u_ap[i,k] = u_ap[i,k-1] + dt*( \\\n",
    "                (v/(dx**2))*(u_ap[i+1,k-1] - 2*u_ap[i,k-1] + u_ap[i-1,k-1]) - \\\n",
    "                (a/(2*dx))*(u_ap[i+1,k-1] - u_ap[i-1,k-1]))                     # Se calcula la solución aproximada"
   ]
  },
  {
   "attachments": {},
   "cell_type": "markdown",
   "metadata": {},
   "source": [
    "### Solución exacta y graficación\n",
    "Calculamoss la solución exacta, con la finalidad de poder comparar nuestra aproximación."
   ]
  },
  {
   "cell_type": "code",
   "execution_count": null,
   "metadata": {},
   "outputs": [],
   "source": [
    "u_ex = np.zeros([200,t])                                                        # Se inicializa u_ex para guardar la solución exacta.\n",
    "x2   = np.linspace(0,1,200)                                                     # Se hace una malla \"fina\" para mostrar mejor la solución.\n",
    "for k in range(t):                                                              # Para todos los tiempos.\n",
    "    for i in range(200):                                                        # Para todos los nodos.\n",
    "        u_ex[i,k] = u(x2[i], T[k], a, v)                                        # Se guarda la solución exacta."
   ]
  },
  {
   "cell_type": "code",
   "execution_count": null,
   "metadata": {},
   "outputs": [],
   "source": [
    "fig, (ax1, ax2) = plt.subplots(1, 2)                                            # Se hace una figura con dos figuras incrustadas.\n",
    "plt.rcParams[\"figure.figsize\"] = (10,5)                                         # Se define el tamaño de la figura principal.\n",
    "plt.suptitle('Ecuación de Advección-Difusión')                                  # Se pone un título a la figura principal.\n",
    "min  = u_ex.min()                                                               # Se encuentra el valor mínimo de la solución.\n",
    "max  = u_ex.max()                                                               # Se encuentra el valor máximo de la solución.\n",
    "p = int(np.ceil(t/100))                                                         # Se decide cuantos pasos de tiempo mostrar.\n",
    "\n",
    "for i in range(0,t,p):                                                          # Para el tiempo desde 0 hasta 1.\n",
    "    ax1.plot(x, u_ap[:,i])                                                      # Se grafica la solución aproximada en la primera figura incrustada.\n",
    "    ax1.set_ylim([min,max])                                                     # Se fijan los ejes en y.\n",
    "    ax1.set_title('Solución Aproximada')                                        # Se pone el título de la primera figura incrustada.\n",
    "    \n",
    "    ax2.plot(x2, u_ex[:,i])                                                     # Se grafica la solución exacta en la segunda figura incrustada.\n",
    "    ax2.set_ylim([min,max])                                                     # Se fijan los ejes en y.\n",
    "    ax2.set_title('Solución Exacta')                                            # Se pone el título de la segunda figura incrustada.\n",
    "    \n",
    "    plt.pause(0.01)                                                             # Se muestra la figura.\n",
    "    ax1.clear()                                                                 # Se limpia la gráfica de la primera figura.\n",
    "    ax2.clear()                                                                 # Se limpia la gráfica de la segunda figura.\n",
    "\n",
    "plt.show()                                                                      # Se muestra el último paso de tiempo."
   ]
  }
 ],
 "metadata": {
  "kernelspec": {
   "display_name": "base",
   "language": "python",
   "name": "python3"
  },
  "language_info": {
   "name": "python",
   "version": "3.9.13"
  },
  "orig_nbformat": 4
 },
 "nbformat": 4,
 "nbformat_minor": 2
}
