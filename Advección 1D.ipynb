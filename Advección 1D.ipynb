{
 "cells": [
  {
   "attachments": {},
   "cell_type": "markdown",
   "metadata": {},
   "source": [
    "# Advección en 1D\n",
    "\n",
    "A continuación se presentan ejemplos de implementaciones para calcular numéricamente la solución de la ecuación de Advección en una dimensión espacial.\n",
    "\n",
    "El problema a resolver es:\n",
    "\\begin{align}\n",
    "  \\frac{\\partial u}{\\partial t} + a\\frac{\\partial u}{\\partial x} = 0\n",
    "\\end{align}\n",
    "\n",
    "Sujeto a las condiciones:\n",
    "\\begin{align}\n",
    "  u(x,t)_\\Omega = sin(x-at)\n",
    "\\end{align}\n",
    "y\n",
    "\\begin{align}\n",
    "  u(x,t)\\mid_{t = 0} = sin(x)\n",
    "\\end{align}"
   ]
  },
  {
   "attachments": {},
   "cell_type": "markdown",
   "metadata": {},
   "source": [
    "## Importación de librerias\n",
    "\n",
    "Primero se hace la importación de las librerías necesarias para trabajar con cuestiones de computación científica en Python."
   ]
  },
  {
   "cell_type": "code",
   "execution_count": 4,
   "metadata": {},
   "outputs": [],
   "source": [
    "import numpy as np                                                              # Librería con funciones y arreglos de cómputo numérico.\n",
    "import matplotlib.pyplot as plt                                                 # Nos permitirá graficar los resultados."
   ]
  },
  {
   "attachments": {},
   "cell_type": "markdown",
   "metadata": {},
   "source": [
    "## Condiciones\n",
    "\n",
    "Se define la función con las condiciones del problema, en este caso, se usará la misma función como condición inicial y condición de frontera.\n",
    "\n",
    "En este caso, las función que se usará es:\n",
    "\\begin{align}\n",
    "  u(x,t) = sin(x-at)\n",
    "\\end{align}\n"
   ]
  },
  {
   "cell_type": "code",
   "execution_count": 5,
   "metadata": {},
   "outputs": [],
   "source": [
    "def u(x,t,a):                                                                   # Se define la función u.\n",
    "    u = np.sin(x - a*t)                                                         # Se agrega la expresión para la condición.\n",
    "    return u                                                                    # Regresa el valor de la condición."
   ]
  },
  {
   "attachments": {},
   "cell_type": "markdown",
   "metadata": {},
   "source": [
    "## Inicialización de Variables\n",
    "Se inicializan algunas variables para la generación de la malla de la región en la cual se pretende resolver el problema."
   ]
  },
  {
   "cell_type": "code",
   "execution_count": 6,
   "metadata": {},
   "outputs": [],
   "source": [
    "m    = 11                                                                       # Número de elementos que tendrá la discretización.\n",
    "t    = 100                                                                      # Número de pasos en el tiempo.\n",
    "a    = -0.2                                                                      # Velocidad de transporte.\n",
    "\n",
    "x    = np.linspace(0,np.pi,m)                                                   # Se hace la discretización del intervalo [0, 2pi].\n",
    "T    = np.linspace(0,1,t)                                                       # Se hace la discretización temporal del intervalo [0,1]\n",
    "dx   = x[1] - x[0]                                                              # Se calcula dx para el método de Diferencias Finitas.\n",
    "dt   = T[1] - T[0]                                                              # Se calcula dt para el método de Diferencias Finitas.\n",
    "u_ap = np.zeros([m,t])                                                          # Se inicializa la variable para la solución aproximada."
   ]
  },
  {
   "attachments": {},
   "cell_type": "markdown",
   "metadata": {},
   "source": [
    "## FTBS (Forward Time Backward Space)"
   ]
  },
  {
   "attachments": {},
   "cell_type": "markdown",
   "metadata": {},
   "source": [
    "### Condiciones Iniciales y de Frontera\n",
    "Se establecen las condiciones iniciales y de frontera del problema."
   ]
  },
  {
   "cell_type": "code",
   "execution_count": null,
   "metadata": {},
   "outputs": [],
   "source": [
    "for i in range(m):                                                              # Para cada uno de los nodos.\n",
    "    u_ap[i,0] = u(x[i], T[0], a)                                                # Se asigna la condición inicial.\n",
    "\n",
    "for k in range(t):                                                              # Para cada paso de tiempo.\n",
    "    u_ap[0,k] = u(x[0], T[k], a)                                                # Se agrega la condición de frontera."
   ]
  },
  {
   "attachments": {},
   "cell_type": "markdown",
   "metadata": {},
   "source": [
    "### Solución por medio de FTBS\n",
    "Se resuelve el problema de advección usando un esquema FTBS"
   ]
  },
  {
   "cell_type": "code",
   "execution_count": null,
   "metadata": {},
   "outputs": [],
   "source": [
    "for k in range(1, t):                                                           # Para todos los pasos de tiempo.\n",
    "    for i in range(1,m):                                                        # Para todos los nodos.\n",
    "        u_ap[i,k] = u_ap[i,k-1] - a*(dt/dx)*(u_ap[i,k-1] - u_ap[i-1,k-1])       # Se calcula la aproximación."
   ]
  },
  {
   "attachments": {},
   "cell_type": "markdown",
   "metadata": {},
   "source": [
    "### Solución exacta y graficación\n",
    "Calculamoss la solución exacta, con la finalidad de poder comparar nuestra aproximación."
   ]
  },
  {
   "cell_type": "code",
   "execution_count": null,
   "metadata": {},
   "outputs": [],
   "source": [
    "u_ex = np.zeros([200,t])                                                        # Se inicializa u_ex para guardar la solución exacta.\n",
    "x2   = np.linspace(0,np.pi,200)                                                 # Se hace una malla \"fina\" para mostrar mejor la solución.\n",
    "for k in range(t):                                                              # Para todos los tiempos.\n",
    "    for i in range(200):                                                        # Para todos los nodos.\n",
    "        u_ex[i,k] = u(x2[i], T[k], a)                                           # Se guarda la solución exacta."
   ]
  },
  {
   "cell_type": "code",
   "execution_count": null,
   "metadata": {},
   "outputs": [],
   "source": [
    "fig, (ax1, ax2) = plt.subplots(1, 2)                                            # Se hace una figura con dos figuras incrustadas.\n",
    "plt.rcParams[\"figure.figsize\"] = (10,5)                                         # Se define el tamaño de la figura principal.\n",
    "plt.suptitle('Ecuación de Advección')                                           # Se pone un título a la figura principal.\n",
    "min  = u_ex.min()                                                               # Se encuentra el valor mínimo de la solución.\n",
    "max  = u_ex.max()                                                               # Se encuentra el valor máximo de la solución.\n",
    "p = int(np.ceil(t/100))                                                         # Se decide cuantos pasos de tiempo mostrar.\n",
    "\n",
    "for i in range(0,t,p):                                                          # Para el tiempo desde 0 hasta 1.\n",
    "    ax1.plot(x, u_ap[:,i])                                                      # Se grafica la solución aproximada en la primera figura incrustada.\n",
    "    ax1.set_ylim([min,max])                                                     # Se fijan los ejes en y.\n",
    "    ax1.set_title('Solución Aproximada')                                        # Se pone el título de la primera figura incrustada.\n",
    "    \n",
    "    ax2.plot(x2, u_ex[:,i])                                                     # Se grafica la solución exacta en la segunda figura incrustada.\n",
    "    ax2.set_ylim([min,max])                                                     # Se fijan los ejes en y.\n",
    "    ax2.set_title('Solución Exacta')                                            # Se pone el título de la segunda figura incrustada.\n",
    "    \n",
    "    plt.pause(0.01)                                                             # Se muestra la figura.\n",
    "    ax1.clear()                                                                 # Se limpia la gráfica de la primera figura.\n",
    "    ax2.clear()                                                                 # Se limpia la gráfica de la segunda figura.\n",
    "\n",
    "plt.show()                                                                      # Se muestra el último paso de tiempo."
   ]
  },
  {
   "attachments": {},
   "cell_type": "markdown",
   "metadata": {},
   "source": [
    "## FTCS (Forward Time Center Space)\n",
    "\n",
    "Se deben modificar esto códigos para que funcionen con FTCS"
   ]
  },
  {
   "attachments": {},
   "cell_type": "markdown",
   "metadata": {},
   "source": [
    "### Condiciones Iniciales y de Frontera\n",
    "Se establecen las condiciones iniciales y de frontera del problema."
   ]
  },
  {
   "cell_type": "code",
   "execution_count": 5,
   "metadata": {},
   "outputs": [],
   "source": [
    "for i in range(m):                                                              # Para cada uno de los nodos.\n",
    "    u_ap[i,0] = u(x[i], T[0], a)                                                # Se asigna la condición inicial.\n",
    "\n",
    "for k in range(t):                                                              # Para cada paso de tiempo.\n",
    "    u_ap[0,k]  = u(x[0], T[k], a)                                                # Se agrega la condición de frontera.\n",
    "    u_ap[-1,k] = u(x[-1], T[k], a)                                                # Se agrega la condición de frontera."
   ]
  },
  {
   "attachments": {},
   "cell_type": "markdown",
   "metadata": {},
   "source": [
    "### Solución por medio de FTCS\n",
    "Se resuelve el problema de advección usando un esquema FTCS"
   ]
  },
  {
   "cell_type": "code",
   "execution_count": 7,
   "metadata": {},
   "outputs": [],
   "source": [
    "for k in range(1, t):                                                           # Para todos los pasos de tiempo.\n",
    "    for i in range(1,m-1):                                                        # Para todos los nodos.\n",
    "        u_ap[i,k] = u_ap[i,k-1] - a*(dt/(2*dx))*(u_ap[i+1,k-1] - u_ap[i-1,k-1])       # Se calcula la aproximación."
   ]
  },
  {
   "attachments": {},
   "cell_type": "markdown",
   "metadata": {},
   "source": [
    "### Solución exacta y graficación\n",
    "Calculamoss la solución exacta, con la finalidad de poder comparar nuestra aproximación."
   ]
  },
  {
   "cell_type": "code",
   "execution_count": null,
   "metadata": {},
   "outputs": [],
   "source": [
    "u_ex = np.zeros([200,t])                                                        # Se inicializa u_ex para guardar la solución exacta.\n",
    "x2   = np.linspace(0,np.pi,200)                                                 # Se hace una malla \"fina\" para mostrar mejor la solución.\n",
    "for k in range(t):                                                              # Para todos los tiempos.\n",
    "    for i in range(200):                                                        # Para todos los nodos.\n",
    "        u_ex[i,k] = u(x2[i], T[k], a)                                           # Se guarda la solución exacta."
   ]
  },
  {
   "cell_type": "code",
   "execution_count": null,
   "metadata": {},
   "outputs": [],
   "source": [
    "fig, (ax1, ax2) = plt.subplots(1, 2)                                            # Se hace una figura con dos figuras incrustadas.\n",
    "plt.rcParams[\"figure.figsize\"] = (10,5)                                         # Se define el tamaño de la figura principal.\n",
    "plt.suptitle('Ecuación de Advección')                                           # Se pone un título a la figura principal.\n",
    "min  = u_ex.min()                                                               # Se encuentra el valor mínimo de la solución.\n",
    "max  = u_ex.max()                                                               # Se encuentra el valor máximo de la solución.\n",
    "p = int(np.ceil(t/100))                                                         # Se decide cuantos pasos de tiempo mostrar.\n",
    "\n",
    "for i in range(0,t,p):                                                          # Para el tiempo desde 0 hasta 1.\n",
    "    ax1.plot(x, u_ap[:,i])                                                      # Se grafica la solución aproximada en la primera figura incrustada.\n",
    "    ax1.set_ylim([min,max])                                                     # Se fijan los ejes en y.\n",
    "    ax1.set_title('Solución Aproximada')                                        # Se pone el título de la primera figura incrustada.\n",
    "    \n",
    "    ax2.plot(x2, u_ex[:,i])                                                     # Se grafica la solución exacta en la segunda figura incrustada.\n",
    "    ax2.set_ylim([min,max])                                                     # Se fijan los ejes en y.\n",
    "    ax2.set_title('Solución Exacta')                                            # Se pone el título de la segunda figura incrustada.\n",
    "    \n",
    "    plt.pause(0.01)                                                             # Se muestra la figura.\n",
    "    ax1.clear()                                                                 # Se limpia la gráfica de la primera figura.\n",
    "    ax2.clear()                                                                 # Se limpia la gráfica de la segunda figura.\n",
    "\n",
    "plt.show()                                                                      # Se muestra el último paso de tiempo."
   ]
  },
  {
   "attachments": {},
   "cell_type": "markdown",
   "metadata": {},
   "source": [
    "## FTFS (Forward Time Forward Space)\n",
    "\n",
    "Se deben modificar esto códigos para que funcionen con FTFS"
   ]
  },
  {
   "attachments": {},
   "cell_type": "markdown",
   "metadata": {},
   "source": [
    "### Condiciones Iniciales y de Frontera\n",
    "Se establecen las condiciones iniciales y de frontera del problema."
   ]
  },
  {
   "cell_type": "code",
   "execution_count": 8,
   "metadata": {},
   "outputs": [],
   "source": [
    "for i in range(m):                                                              # Para cada uno de los nodos.\n",
    "    u_ap[i,0] = u(x[i], T[0], a)                                                # Se asigna la condición inicial.\n",
    "\n",
    "for k in range(t):                                                              # Para cada paso de tiempo.\n",
    "    u_ap[-1,k] = u(x[-1], T[k], a)                                              # Se agrega la condición de frontera."
   ]
  },
  {
   "attachments": {},
   "cell_type": "markdown",
   "metadata": {},
   "source": [
    "### Solución por medio de FTFS\n",
    "Se resuelve el problema de advección usando un esquema FTFS"
   ]
  },
  {
   "cell_type": "code",
   "execution_count": 9,
   "metadata": {},
   "outputs": [],
   "source": [
    "for k in range(1, t):                                                           # Para todos los pasos de tiempo.\n",
    "    for i in range(0,m-1):                                                        # Para todos los nodos.\n",
    "        u_ap[i,k] = u_ap[i,k-1] - a*(dt/dx)*(u_ap[i+1,k-1] - u_ap[i,k-1])       # Se calcula la aproximación."
   ]
  },
  {
   "attachments": {},
   "cell_type": "markdown",
   "metadata": {},
   "source": [
    "### Solución exacta y graficación\n",
    "Calculamoss la solución exacta, con la finalidad de poder comparar nuestra aproximación."
   ]
  },
  {
   "cell_type": "code",
   "execution_count": null,
   "metadata": {},
   "outputs": [],
   "source": [
    "u_ex = np.zeros([200,t])                                                        # Se inicializa u_ex para guardar la solución exacta.\n",
    "x2   = np.linspace(0,np.pi,200)                                                 # Se hace una malla \"fina\" para mostrar mejor la solución.\n",
    "for k in range(t):                                                              # Para todos los tiempos.\n",
    "    for i in range(200):                                                        # Para todos los nodos.\n",
    "        u_ex[i,k] = u(x2[i], T[k], a)                                           # Se guarda la solución exacta."
   ]
  },
  {
   "cell_type": "code",
   "execution_count": null,
   "metadata": {},
   "outputs": [],
   "source": [
    "fig, (ax1, ax2) = plt.subplots(1, 2)                                            # Se hace una figura con dos figuras incrustadas.\n",
    "plt.rcParams[\"figure.figsize\"] = (10,5)                                         # Se define el tamaño de la figura principal.\n",
    "plt.suptitle('Ecuación de Advección')                                           # Se pone un título a la figura principal.\n",
    "min  = u_ex.min()                                                               # Se encuentra el valor mínimo de la solución.\n",
    "max  = u_ex.max()                                                               # Se encuentra el valor máximo de la solución.\n",
    "p = int(np.ceil(t/100))                                                         # Se decide cuantos pasos de tiempo mostrar.\n",
    "\n",
    "for i in range(0,t,p):                                                          # Para el tiempo desde 0 hasta 1.\n",
    "    ax1.plot(x, u_ap[:,i])                                                      # Se grafica la solución aproximada en la primera figura incrustada.\n",
    "    ax1.set_ylim([min,max])                                                     # Se fijan los ejes en y.\n",
    "    ax1.set_title('Solución Aproximada')                                        # Se pone el título de la primera figura incrustada.\n",
    "    \n",
    "    ax2.plot(x2, u_ex[:,i])                                                     # Se grafica la solución exacta en la segunda figura incrustada.\n",
    "    ax2.set_ylim([min,max])                                                     # Se fijan los ejes en y.\n",
    "    ax2.set_title('Solución Exacta')                                            # Se pone el título de la segunda figura incrustada.\n",
    "    \n",
    "    plt.pause(0.01)                                                             # Se muestra la figura.\n",
    "    ax1.clear()                                                                 # Se limpia la gráfica de la primera figura.\n",
    "    ax2.clear()                                                                 # Se limpia la gráfica de la segunda figura.\n",
    "\n",
    "plt.show()                                                                      # Se muestra el último paso de tiempo."
   ]
  }
 ],
 "metadata": {
  "kernelspec": {
   "display_name": "base",
   "language": "python",
   "name": "python3"
  },
  "language_info": {
   "codemirror_mode": {
    "name": "ipython",
    "version": 3
   },
   "file_extension": ".py",
   "mimetype": "text/x-python",
   "name": "python",
   "nbconvert_exporter": "python",
   "pygments_lexer": "ipython3",
   "version": "3.9.13"
  },
  "orig_nbformat": 4
 },
 "nbformat": 4,
 "nbformat_minor": 2
}
