{
 "cells": [
  {
   "attachments": {},
   "cell_type": "markdown",
   "metadata": {},
   "source": [
    "# Advección-Difusión en 2D\n",
    "\n",
    "A continuación se presentan ejemplos de implementaciones para calcular numéricamente la solución de la ecuación de Advección-Difusión en dos dimensiones espaciales.\n",
    "\n",
    "El problema a resolver es:\n",
    "\\begin{align}\n",
    "  \\frac{\\partial u}{\\partial t} = \\nu\\left(\\frac{\\partial^2 u}{\\partial x^2} + \\frac{\\partial^2 u}{\\partial y^2}\\right) - a\\frac{\\partial u}{\\partial x} - b\\frac{\\partial u}{\\partial y}\n",
    "\\end{align}\n",
    "\n",
    "Sujeto a las condiciones:\n",
    "\\begin{align}\n",
    "  u(x,y,t)_\\Omega = \\left(\\frac{1}{4t+1}\\right)e^{-\\frac{(x-at-0.5)^2}{\\nu(4t+1)} - \\frac{(y-bt-0.5)^2}{\\nu(4t+1)}}\n",
    "\\end{align}\n",
    "y\n",
    "\\begin{align}\n",
    "  u(x,y,t)\\mid_{t = 0} = e^{-\\frac{(x-0.5)^2}{\\nu} - \\frac{(y-0.5)^2}{\\nu}}\n",
    "\\end{align}"
   ]
  },
  {
   "attachments": {},
   "cell_type": "markdown",
   "metadata": {},
   "source": [
    "## Importación de librerias\n",
    "\n",
    "Primero se hace la importación de las librerías necesarias para trabajar con cuestiones de computación científica en Python."
   ]
  },
  {
   "cell_type": "code",
   "execution_count": null,
   "metadata": {},
   "outputs": [],
   "source": [
    "import numpy as np                                                              # Librería con funciones y arreglos de cómputo numérico.\n",
    "import matplotlib.pyplot as plt                                                 # Nos permitirá graficar los resultados.\n",
    "from Graphs import Mesh_Transient                                               # Las rutina para graficar está en el archivo Graphs."
   ]
  },
  {
   "attachments": {},
   "cell_type": "markdown",
   "metadata": {},
   "source": [
    "## Condiciones\n",
    "\n",
    "Se define la función con las condiciones del problema, en este caso, se usará la misma función como condición inicial y condición de frontera.\n",
    "\n",
    "En este caso, las función que se usará es:\n",
    "\\begin{align}\n",
    "  u(x,y,t)_\\Omega = \\left(\\frac{1}{4t+1}\\right)e^{-\\frac{(x-at-0.5)^2}{\\nu(4t+1)} - \\frac{(y-bt-0.5)^2}{\\nu(4t+1)}}\n",
    "\\end{align}\n"
   ]
  },
  {
   "cell_type": "code",
   "execution_count": null,
   "metadata": {},
   "outputs": [],
   "source": [
    "def u(x,y,t,v,a,b):                                                             # Se define la función u.\n",
    "    u = (1/(4*t+1))*np.exp(-(x-a*t-0.5)**2/(v*(4*t+1)) \\\n",
    "                           -(y-b*t-0.5)**2/(v*(4*t+1)))                         # Se agrega la expresión para la condición.\n",
    "    return u                                                                    # Regresa el valor de la condición."
   ]
  },
  {
   "attachments": {},
   "cell_type": "markdown",
   "metadata": {},
   "source": [
    "## Inicialización de Variables\n",
    "Se inicializan algunas variables para la generación de la malla de la región en la cual se pretende resolver el problema."
   ]
  },
  {
   "cell_type": "code",
   "execution_count": null,
   "metadata": {},
   "outputs": [],
   "source": [
    "m    = 21                                                                       # Número de elementos que tendrá la discretización en x.\n",
    "n    = 21                                                                       # Número de elementos que tendrá la discretización en y.\n",
    "t    = 500                                                                      # Número de pasos en el tiempo.\n",
    "v    = 0.02                                                                     # Coeficiente de Difusión.\n",
    "a    = 0.3                                                                      # Velocidad en la dirección x.\n",
    "b    = 0.3                                                                      # Velocidad en la dirección y.\n",
    "\n",
    "x    = np.linspace(0,1,m)                                                       # Se hace la discretización del intervalo [0, 1] para x.\n",
    "y    = np.linspace(0,1,n)                                                       # Se hace la discretización del intervalo [0, 1] para y.\n",
    "dx   = x[1] - x[0]                                                              # Se calcula dx para el método de Diferencias Finitas.\n",
    "dy   = y[1] - y[0]                                                              # Se calcula dy para el método de Diferencias Finitas.\n",
    "x, y = np.meshgrid(x,y)                                                         # Se genera la malla de la región [0,1]X[0,1].\n",
    "\n",
    "T    = np.linspace(0,1,t)                                                       # Se hace la discretización temporal del intervalo [0,1]\n",
    "dt   = T[1] - T[0]                                                              # Se calcula dt para el método de Diferencias Finitas.\n",
    "\n",
    "u_ap = np.zeros([m,n,t])                                                        # Se inicializa la variable para la solución aproximada."
   ]
  },
  {
   "attachments": {},
   "cell_type": "markdown",
   "metadata": {},
   "source": [
    "## Solución de la ecuación de Advección-Difusión en 2D"
   ]
  },
  {
   "attachments": {},
   "cell_type": "markdown",
   "metadata": {},
   "source": [
    "### Condiciones Iniciales y de Frontera\n",
    "Se establecen las condiciones iniciales y de frontera del problema."
   ]
  },
  {
   "cell_type": "code",
   "execution_count": null,
   "metadata": {},
   "outputs": [],
   "source": [
    "for i in range(m):                                                              # Para cada uno de los nodos en x.\n",
    "    for j in range(n):                                                          # Para cada uno de los nodos en y.\n",
    "        u_ap[i,j,0] = u(x[i,j], y[i,j], T[0], v, a, b)                          # Se asigna la condición inicial.\n",
    "\n",
    "for k in range(t):                                                              # Para cada paso de tiempo.\n",
    "    for i in range(m):                                                          # Se recorren los nodos en x.\n",
    "        u_ap[i,0,k]  = u(x[i,0], y[i,0], T[k], v, a, b)                         # Se agrega la condición de frontera.\n",
    "        u_ap[i,-1,k] = u(x[i,-1], y[i,-1], T[k], v, a, b)                       # Se agrega la condición de frontera.\n",
    "    for j in range(n):                                                          # Se recorren los nodos en y.\n",
    "        u_ap[0,j,k]  = u(x[0,j], y[0,j], T[k], v, a, b)                         # Se agrega la condición de frontera.\n",
    "        u_ap[-1,j,k] = u(x[-1,j], y[-1,j], T[k], v, a, b)                       # Se agrega la condición de frontera."
   ]
  },
  {
   "attachments": {},
   "cell_type": "markdown",
   "metadata": {},
   "source": [
    "Se resuelve el problema de difusión utilizando diferencias centradas"
   ]
  },
  {
   "cell_type": "code",
   "execution_count": null,
   "metadata": {},
   "outputs": [],
   "source": [
    "for k in range(1, t):                                                           # Para todos los pasos de tiempo.\n",
    "    for i in range(1,m-1):                                                      # Para todos los nodos en x.\n",
    "        for j in range(1,n-1):                                                  # Para todos los nodos en y.\n",
    "            u_ap[i,j,k] = u_ap[i,j,k-1] + dt*( \\\n",
    "                        (v/dx**2)* \\\n",
    "                        (u_ap[i+1,j,k-1] - 2*u_ap[i,j,k-1] + u_ap[i-1,j,k-1]) + \\\n",
    "                        (v/dy**2)* \\\n",
    "                        (u_ap[i,j+1,k-1] - 2*u_ap[i,j,k-1] + u_ap[i,j-1,k-1]) - \\\n",
    "                        a/(2*dx)*(u_ap[i+1,j,k-1] - u_ap[i-1,j,k-1]) - \\\n",
    "                        b/(2*dy)*(u_ap[i,j+1,k-1] - u_ap[i,j-1,k-1]))           # Se calcula la aproximación."
   ]
  },
  {
   "attachments": {},
   "cell_type": "markdown",
   "metadata": {},
   "source": [
    "### Solución exacta y graficación\n",
    "Calculamoss la solución exacta, con la finalidad de poder comparar nuestra aproximación."
   ]
  },
  {
   "cell_type": "code",
   "execution_count": null,
   "metadata": {},
   "outputs": [],
   "source": [
    "m2    = 100\n",
    "n2    = 100\n",
    "u_ex  = np.zeros([m2,n2,t])                                                     # Se inicializa u_ex para guardar la solución exacta.\n",
    "x2    = np.linspace(0,1,m2)                                                     # Se hace una malla \"fina\" para mostrar mejor la solución.\n",
    "y2    = np.linspace(0,1,n2)                                                     # Se hace una malla \"fina\" para mostrar mejor la solución.\n",
    "x2,y2 = np.meshgrid(x2,y2)                                                      # Se hace una malla \"fina\" para mostrar mejor la solución.\n",
    "for k in range(t):                                                              # Para todos los tiempos.\n",
    "    for i in range(m2):                                                         # Para todos los nodos en x.\n",
    "        for j in range(n2):                                                     # Para todos los nodos en y.\n",
    "            u_ex[i,j,k] = u(x2[i,j], y2[i,j], T[k], v, a, b)                    # Se guarda la solución exacta."
   ]
  },
  {
   "cell_type": "code",
   "execution_count": null,
   "metadata": {},
   "outputs": [],
   "source": [
    "Mesh_Transient(x, y, u_ap, x2, y2, u_ex)"
   ]
  }
 ],
 "metadata": {
  "language_info": {
   "name": "python"
  },
  "orig_nbformat": 4
 },
 "nbformat": 4,
 "nbformat_minor": 2
}
