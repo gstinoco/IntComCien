{
 "cells": [
  {
   "attachments": {},
   "cell_type": "markdown",
   "metadata": {},
   "source": [
    "# Advección en 2D\n",
    "\n",
    "A continuación se presentan ejemplos de implementaciones para calcular numéricamente la solución de la ecuación de Advección en dos dimensiones espaciales.\n",
    "\n",
    "El problema a resolver es:\n",
    "\\begin{align}\n",
    "  \\frac{\\partial u}{\\partial t} + a\\frac{\\partial u}{\\partial x} + b\\frac{\\partial u}{\\partial t}= 0\n",
    "\\end{align}\n",
    "\n",
    "Sujeto a las condiciones:\n",
    "\\begin{align}\n",
    "  u(x,y,t)_\\Omega = 0.2e^{\\frac{-(x - 0.5-at)^2 - (y-0.3-bt)^2}{0.01}}\n",
    "\\end{align}\n",
    "y\n",
    "\\begin{align}\n",
    "  u(x,y,t)\\mid_{t = 0} = 0.2e^{\\frac{-(x - 0.5)^2 - (y-0.3)^2}{0.01}}\n",
    "\\end{align}"
   ]
  },
  {
   "attachments": {},
   "cell_type": "markdown",
   "metadata": {},
   "source": [
    "## Importación de librerias\n",
    "\n",
    "Primero se hace la importación de las librerías necesarias para trabajar con cuestiones de computación científica en Python."
   ]
  },
  {
   "cell_type": "code",
   "execution_count": 2,
   "metadata": {},
   "outputs": [],
   "source": [
    "import numpy as np                                                              # Librería con funciones y arreglos de cómputo numérico.\n",
    "import matplotlib.pyplot as plt                                                 # Nos permitirá graficar los resultados.\n",
    "from Graphs import Mesh_Transient                                               # Las rutina para graficar está en el archivo Graphs."
   ]
  },
  {
   "attachments": {},
   "cell_type": "markdown",
   "metadata": {},
   "source": [
    "## Condiciones\n",
    "\n",
    "Se define la función con las condiciones del problema, en este caso, se usará la misma función como condición inicial y condición de frontera.\n",
    "\n",
    "En este caso, las función que se usará es:\n",
    "\\begin{align}\n",
    "  u(x,y,t) = 0.2e^{\\frac{-(x - 0.5-at)^2 - (y-0.3-bt)^2}{0.01}}\n",
    "\\end{align}\n"
   ]
  },
  {
   "cell_type": "code",
   "execution_count": 3,
   "metadata": {},
   "outputs": [],
   "source": [
    "def u(x,y,t,a,b):                                                               # Se define la función u.\n",
    "    u = 0.2*np.exp((-(x-.5-a*t)**2-(y-.3-b*t)**2)/0.01)                         # Se agrega la expresión para la condición.\n",
    "    return u                                                                    # Regresa el valor de la condición."
   ]
  },
  {
   "attachments": {},
   "cell_type": "markdown",
   "metadata": {},
   "source": [
    "## Inicialización de Variables\n",
    "Se inicializan algunas variables para la generación de la malla de la región en la cual se pretende resolver el problema."
   ]
  },
  {
   "cell_type": "code",
   "execution_count": null,
   "metadata": {},
   "outputs": [],
   "source": [
    "m    = 11                                                                       # Número de elementos que tendrá la discretización en x.\n",
    "n    = 11                                                                       # Número de elementos que tendrá la discretización en y.\n",
    "t    = 100                                                                      # Número de pasos en el tiempo.\n",
    "a    = 0.1                                                                      # Velocidad de transporte en x.\n",
    "b    = 0.3                                                                      # Velocidad de transporte en y.\n",
    "\n",
    "x    = np.linspace(0,1,m)                                                       # Se hace la discretización del intervalo [0, 1] para x.\n",
    "y    = np.linspace(0,1,n)                                                       # Se hace la discretización del intervalo [0, 1] para y.\n",
    "dx   = x[1] - x[0]                                                              # Se calcula dx para el método de Diferencias Finitas.\n",
    "dy   = y[1] - y[0]                                                              # Se calcula dy para el método de Diferencias Finitas.\n",
    "x, y = np.meshgrid(x,y)                                                         # Se genera la malla de la región [0,1]X[0,1].\n",
    "\n",
    "T    = np.linspace(0,1,t)                                                       # Se hace la discretización temporal del intervalo [0,1]\n",
    "dt   = T[1] - T[0]                                                              # Se calcula dt para el método de Diferencias Finitas.\n",
    "\n",
    "u_ap = np.zeros([m,n,t])                                                        # Se inicializa la variable para la solución aproximada."
   ]
  },
  {
   "attachments": {},
   "cell_type": "markdown",
   "metadata": {},
   "source": [
    "## FTBS (Forward Time Backward Space)"
   ]
  },
  {
   "attachments": {},
   "cell_type": "markdown",
   "metadata": {},
   "source": [
    "### Condiciones Iniciales y de Frontera\n",
    "Se establecen las condiciones iniciales y de frontera del problema."
   ]
  },
  {
   "cell_type": "code",
   "execution_count": null,
   "metadata": {},
   "outputs": [],
   "source": [
    "for i in range(m):                                                              # Para cada uno de los nodos en x.\n",
    "    for j in range(n):                                                          # Para cada uno de los nodos en y.\n",
    "        u_ap[i,j,0] = u(x[i,j], y[i,j], T[0], a, b)                             # Se asigna la condición inicial.\n",
    "\n",
    "for k in range(t):                                                              # Para cada paso de tiempo.\n",
    "    for i in range(m):                                                          # Se recorren los nodos en x.\n",
    "        u_ap[i,0,k] = u(x[i,0], y[i,0], T[k], a, b)                             # Se agrega la condición de frontera.\n",
    "    for j in range(n):                                                          # Se recorren los nodos en y.\n",
    "        u_ap[0,j,k] = u(x[0,j], y[0,j], T[k], a, b)                             # Se agrega la condición de frontera."
   ]
  },
  {
   "attachments": {},
   "cell_type": "markdown",
   "metadata": {},
   "source": [
    "### Solución por medio de FTBS\n",
    "Se resuelve el problema de advección usando un esquema FTBS"
   ]
  },
  {
   "cell_type": "code",
   "execution_count": null,
   "metadata": {},
   "outputs": [],
   "source": [
    "for k in range(1, t):                                                           # Para todos los pasos de tiempo.\n",
    "    for i in range(1,m):                                                        # Para todos los nodos en x.\n",
    "        for j in range(1,n):                                                    # Para todos los nodos en y.\n",
    "            u_ap[i,j,k] = u_ap[i,j,k-1] - dt*( \\\n",
    "                          (a/dx)*(u_ap[i,j,k-1] - u_ap[i-1,j,k-1]) + \\\n",
    "                          (b/dy)*(u_ap[i,j,k-1] - u_ap[i,j-1,k-1]))             # Se calcula la aproximación."
   ]
  },
  {
   "attachments": {},
   "cell_type": "markdown",
   "metadata": {},
   "source": [
    "### Solución exacta y graficación\n",
    "Calculamoss la solución exacta, con la finalidad de poder comparar nuestra aproximación."
   ]
  },
  {
   "cell_type": "code",
   "execution_count": null,
   "metadata": {},
   "outputs": [],
   "source": [
    "m2    = 200\n",
    "n2    = 200\n",
    "u_ex  = np.zeros([m2,n2,t])                                                     # Se inicializa u_ex para guardar la solución exacta.\n",
    "x2    = np.linspace(0,1,m2)                                                     # Se hace una malla \"fina\" para mostrar mejor la solución.\n",
    "y2    = np.linspace(0,1,n2)                                                     # Se hace una malla \"fina\" para mostrar mejor la solución.\n",
    "x2,y2 = np.meshgrid(x2,y2)                                                      # Se hace una malla \"fina\" para mostrar mejor la solución.\n",
    "for k in range(t):                                                              # Para todos los tiempos.\n",
    "    for i in range(m2):                                                         # Para todos los nodos en x.\n",
    "        for j in range(n2):                                                     # Para todos los nodos en y.\n",
    "            u_ex[i,j,k] = u(x2[i,j], y2[i,j], T[k], a, b)                       # Se guarda la solución exacta."
   ]
  },
  {
   "cell_type": "code",
   "execution_count": 1,
   "metadata": {},
   "outputs": [],
   "source": [
    "Mesh_Transient(x, y, u_ap, x2, y2, u_ex)"
   ]
  },
  {
   "attachments": {},
   "cell_type": "markdown",
   "metadata": {},
   "source": [
    "## FTCS (Forward Time Center Space)\n",
    "\n",
    "Se deben de modificar estos códigos para que funcionen con FTCS"
   ]
  },
  {
   "attachments": {},
   "cell_type": "markdown",
   "metadata": {},
   "source": [
    "### Condiciones Iniciales y de Frontera\n",
    "Se establecen las condiciones iniciales y de frontera del problema."
   ]
  },
  {
   "cell_type": "code",
   "execution_count": null,
   "metadata": {},
   "outputs": [],
   "source": [
    "for i in range(m):                                                              # Para cada uno de los nodos en x.\n",
    "    for j in range(n):                                                          # Para cada uno de los nodos en y.\n",
    "        u_ap[i,j,0] = u(x[i,j], y[i,j], T[0], a, b)                             # Se asigna la condición inicial.\n",
    "\n",
    "for k in range(t):                                                              # Para cada paso de tiempo.\n",
    "    for i in range(m):                                                          # Se recorren los nodos en x.\n",
    "        u_ap[i,0,k] = u(x[i,0], y[i,0], T[k], a, b)                             # Se agrega la condición de frontera.\n",
    "    for j in range(n):                                                          # Se recorren los nodos en y.\n",
    "        u_ap[0,j,k] = u(x[0,j], y[0,j], T[k], a, b)                             # Se agrega la condición de frontera."
   ]
  },
  {
   "attachments": {},
   "cell_type": "markdown",
   "metadata": {},
   "source": [
    "### Solución por medio de FTCS\n",
    "Se resuelve el problema de advección usando un esquema FTCS"
   ]
  },
  {
   "cell_type": "code",
   "execution_count": null,
   "metadata": {},
   "outputs": [],
   "source": [
    "for k in range(1, t):                                                           # Para todos los pasos de tiempo.\n",
    "    for i in range(1,m):                                                        # Para todos los nodos en x.\n",
    "        for j in range(1,n):                                                    # Para todos los nodos en y.\n",
    "            u_ap[i,j,k] = u_ap[i,j,k-1] - dt*( \\\n",
    "                          (a/dx)*(u_ap[i,j,k-1] - u_ap[i-1,j,k-1]) + \\\n",
    "                          (b/dy)*(u_ap[i,j,k-1] - u_ap[i,j-1,k-1]))             # Se calcula la aproximación."
   ]
  },
  {
   "attachments": {},
   "cell_type": "markdown",
   "metadata": {},
   "source": [
    "### Solución exacta y graficación\n",
    "Calculamoss la solución exacta, con la finalidad de poder comparar nuestra aproximación."
   ]
  },
  {
   "cell_type": "code",
   "execution_count": null,
   "metadata": {},
   "outputs": [],
   "source": [
    "m2    = 200\n",
    "n2    = 200\n",
    "u_ex  = np.zeros([m2,n2,t])                                                     # Se inicializa u_ex para guardar la solución exacta.\n",
    "x2    = np.linspace(0,1,m2)                                                     # Se hace una malla \"fina\" para mostrar mejor la solución.\n",
    "y2    = np.linspace(0,1,n2)                                                     # Se hace una malla \"fina\" para mostrar mejor la solución.\n",
    "x2,y2 = np.meshgrid(x2,y2)                                                      # Se hace una malla \"fina\" para mostrar mejor la solución.\n",
    "for k in range(t):                                                              # Para todos los tiempos.\n",
    "    for i in range(m2):                                                         # Para todos los nodos en x.\n",
    "        for j in range(n2):                                                     # Para todos los nodos en y.\n",
    "            u_ex[i,j,k] = u(x2[i,j], y2[i,j], T[k], a, b)                       # Se guarda la solución exacta."
   ]
  },
  {
   "cell_type": "code",
   "execution_count": null,
   "metadata": {},
   "outputs": [],
   "source": [
    "Mesh_Transient(x, y, u_ap, x2, y2, u_ex)"
   ]
  },
  {
   "attachments": {},
   "cell_type": "markdown",
   "metadata": {},
   "source": [
    "## FTFS (Forward Time Forward Space)\n",
    "\n",
    "Se deben de modificar estos códigos para que funcionen con FTFS"
   ]
  },
  {
   "attachments": {},
   "cell_type": "markdown",
   "metadata": {},
   "source": [
    "### Condiciones Iniciales y de Frontera\n",
    "Se establecen las condiciones iniciales y de frontera del problema."
   ]
  },
  {
   "cell_type": "code",
   "execution_count": null,
   "metadata": {},
   "outputs": [],
   "source": [
    "for i in range(m):                                                              # Para cada uno de los nodos en x.\n",
    "    for j in range(n):                                                          # Para cada uno de los nodos en y.\n",
    "        u_ap[i,j,0] = u(x[i,j], y[i,j], T[0], a, b)                             # Se asigna la condición inicial.\n",
    "\n",
    "for k in range(t):                                                              # Para cada paso de tiempo.\n",
    "    for i in range(m):                                                          # Se recorren los nodos en x.\n",
    "        u_ap[i,0,k] = u(x[i,0], y[i,0], T[k], a, b)                             # Se agrega la condición de frontera.\n",
    "    for j in range(n):                                                          # Se recorren los nodos en y.\n",
    "        u_ap[0,j,k] = u(x[0,j], y[0,j], T[k], a, b)                             # Se agrega la condición de frontera."
   ]
  },
  {
   "attachments": {},
   "cell_type": "markdown",
   "metadata": {},
   "source": [
    "### Solución por medio de FTFS\n",
    "Se resuelve el problema de advección usando un esquema FTFS"
   ]
  },
  {
   "cell_type": "code",
   "execution_count": null,
   "metadata": {},
   "outputs": [],
   "source": [
    "for k in range(1, t):                                                           # Para todos los pasos de tiempo.\n",
    "    for i in range(1,m):                                                        # Para todos los nodos en x.\n",
    "        for j in range(1,n):                                                    # Para todos los nodos en y.\n",
    "            u_ap[i,j,k] = u_ap[i,j,k-1] - dt*( \\\n",
    "                          (a/dx)*(u_ap[i,j,k-1] - u_ap[i-1,j,k-1]) + \\\n",
    "                          (b/dy)*(u_ap[i,j,k-1] - u_ap[i,j-1,k-1]))             # Se calcula la aproximación."
   ]
  },
  {
   "attachments": {},
   "cell_type": "markdown",
   "metadata": {},
   "source": [
    "### Solución exacta y graficación\n",
    "Calculamoss la solución exacta, con la finalidad de poder comparar nuestra aproximación."
   ]
  },
  {
   "cell_type": "code",
   "execution_count": null,
   "metadata": {},
   "outputs": [],
   "source": [
    "m2    = 200\n",
    "n2    = 200\n",
    "u_ex  = np.zeros([m2,n2,t])                                                     # Se inicializa u_ex para guardar la solución exacta.\n",
    "x2    = np.linspace(0,1,m2)                                                     # Se hace una malla \"fina\" para mostrar mejor la solución.\n",
    "y2    = np.linspace(0,1,n2)                                                     # Se hace una malla \"fina\" para mostrar mejor la solución.\n",
    "x2,y2 = np.meshgrid(x2,y2)                                                      # Se hace una malla \"fina\" para mostrar mejor la solución.\n",
    "for k in range(t):                                                              # Para todos los tiempos.\n",
    "    for i in range(m2):                                                         # Para todos los nodos en x.\n",
    "        for j in range(n2):                                                     # Para todos los nodos en y.\n",
    "            u_ex[i,j,k] = u(x2[i,j], y2[i,j], T[k], a, b)                       # Se guarda la solución exacta."
   ]
  },
  {
   "cell_type": "code",
   "execution_count": null,
   "metadata": {},
   "outputs": [],
   "source": [
    "Mesh_Transient(x, y, u_ap, x2, y2, u_ex)"
   ]
  }
 ],
 "metadata": {
  "kernelspec": {
   "display_name": "base",
   "language": "python",
   "name": "python3"
  },
  "language_info": {
   "codemirror_mode": {
    "name": "ipython",
    "version": 3
   },
   "file_extension": ".py",
   "mimetype": "text/x-python",
   "name": "python",
   "nbconvert_exporter": "python",
   "pygments_lexer": "ipython3",
   "version": "3.9.13"
  },
  "orig_nbformat": 4
 },
 "nbformat": 4,
 "nbformat_minor": 2
}
