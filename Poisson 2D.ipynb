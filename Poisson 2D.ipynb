{
 "cells": [
  {
   "attachments": {},
   "cell_type": "markdown",
   "metadata": {},
   "source": [
    "# Poisson en 2D\n",
    "\n",
    "A continuación se presentan ejemplos de implementaciones para calcular numericamente la solución de la ecuación de Poisson en dos dimensiones espaciales.\n",
    "\n",
    "El problema a resolver es\n",
    "\\begin{align}\n",
    "    \\frac{\\partial^2\\phi}{\\partial x^2}+ \\frac{\\partial^2\\phi}{\\partial y^2} = -f\n",
    "\\end{align}\n",
    "\n",
    "Sujeto a las condiciones:\n",
    "\\begin{align}\n",
    "    \\phi(x,y)_\\Omega = 2e^{2x+y}\n",
    "\\end{align}\n",
    "y\n",
    "\\begin{align}\n",
    "    f(x,y) = 10e^{2x+y}\n",
    "\\end{align}"
   ]
  },
  {
   "attachments": {},
   "cell_type": "markdown",
   "metadata": {},
   "source": [
    "## Importación de librerias\n",
    "\n",
    "Primero se hace la importación de las librerías necesarias para trabajar con cuestiones de computación científica en Python."
   ]
  },
  {
   "cell_type": "code",
   "execution_count": null,
   "metadata": {},
   "outputs": [],
   "source": [
    "import numpy as np                                                              # Librería con funciones y arreglos de cómputo numérico.\n",
    "import matplotlib.pyplot as plt                                                 # Nos permitirá graficar los resultados"
   ]
  },
  {
   "attachments": {},
   "cell_type": "markdown",
   "metadata": {},
   "source": [
    "## Funciones para las condiciones\n",
    "Se definen las funciones que actuarán como las condiciones del problema frontera.\n",
    "\n",
    "Estas pueden cambiarse dependiendo del problema a modelar con la finalidad de cambiar el problema que se pretende resolver.\n",
    "\n",
    "En este caso, las funciones que se usarán son:\n",
    "\\begin{align}\n",
    "    \\phi(x,y) = 2e^{2x+y}\n",
    "\\end{align}\n",
    "y\n",
    "\\begin{align}\n",
    "    f(x,y) = 10e^{2x+y}\n",
    "\\end{align}"
   ]
  },
  {
   "cell_type": "code",
   "execution_count": null,
   "metadata": {},
   "outputs": [],
   "source": [
    "def phi(x, y):                                                                  # Se define la función phi.\n",
    "    phi = 2*np.exp(2*x+y)                                                       # Se agrega la expresión para la condición.\n",
    "    return phi                                                                  # Regresa el valor de la condición evaluada.\n",
    "\n",
    "def f(x,y):                                                                     # Se define la función f.\n",
    "    f = 10*np.exp(2*x+y)                                                        # Se agrega la expresión para la condición.\n",
    "    return f                                                                    # Regresa el valor de la condición evaluada."
   ]
  },
  {
   "attachments": {},
   "cell_type": "markdown",
   "metadata": {},
   "source": [
    "## Poisson 2D Matricial"
   ]
  },
  {
   "attachments": {},
   "cell_type": "markdown",
   "metadata": {},
   "source": [
    "### Inicialización de Variables\n",
    "Se inicializan algunas variables para la generación de la malla de la región en la cual se pretende resolver el problema y acelerar algunos cálculos."
   ]
  },
  {
   "cell_type": "code",
   "execution_count": null,
   "metadata": {},
   "outputs": [],
   "source": [
    "m      = 21                                                                     # Número de elementos que tendrá la discretización.\n",
    "x      = np.linspace(0,1,m)                                                     # Se hace la discretización en x del intervalo [0, 1].\n",
    "y      = np.linspace(0,1,m)                                                     # Se hace la discretización en y del intervalo [0, 1].\n",
    "h      = x[2] - x[1]                                                            # Se calcula h para el método de Diferencias Finitas.\n",
    "x, y   = np.meshgrid(x,y)                                                       # Se hace la malla de la región para trabajar [0,1]x[0,1].\n",
    "A      = np.zeros([(m-2)*(m-2),(m-2)*(m-2)])                                    # Se inicializa la matriz A con ceros.\n",
    "rhs    = np.zeros([(m-2)*(m-2),1])                                              # Se inicializa el vector rhs con ceros.\n",
    "phi_ap = np.zeros([m,m])                                                        # Se inicializa la variable para la solución aproximada.\n",
    "phi_ex = np.zeros([m,m])                                                        # Se inicializa la respectiva variable con ceros."
   ]
  },
  {
   "attachments": {},
   "cell_type": "markdown",
   "metadata": {},
   "source": [
    "### Condiciones de Frontera\n",
    "\n",
    "Se deben de agregar las condiciones de frontera, para poder calcular correctamente la aproximación. En este caso, se debe de considerar que se tienen 4 fronteras diferentes."
   ]
  },
  {
   "cell_type": "code",
   "execution_count": null,
   "metadata": {},
   "outputs": [],
   "source": [
    "for i in range(1,m-1):                                                          # Se recorren los nodos de la frontera.\n",
    "    temp       = i-1                                                            # Se asigna el valor de temp como los nodos de la primera frontera en x.\n",
    "    rhs[temp] += phi(x[i,0], y[i,0])                                            # Se guarda la condición de frontera en el lado derecho.\n",
    "    temp       = (i-1) + (m-2)*((m-1)-2)                                        # Se asigna el valor de temp como los nodos de la última frontera en x.\n",
    "    rhs[temp] += phi(x[i,m-1], y[i,m-1])                                        # Se guarda la condición de frontera en el lado derecho.\n",
    "    temp       = (m-2)*(i-1)                                                    # Se asigna el valor de temp para los nodos de la primera frontera en y.\n",
    "    rhs[temp] += phi(x[0,i], y[0,i])                                            # Se guarda la condición de frontera en el lado derecho.\n",
    "    temp       = ((m-1)-2) + (m-2)*(i-1)                                        # Se asgina el valor de temp para los nodos de la última frontera en y.\n",
    "    rhs[temp] += phi(x[m-1,i], y[m-1,i])                                        # Se guarda la condición de frontera en el lado derecho.\n",
    "\n",
    "for i in range(1,m-1):                                                          # Para todos los nodos en x.\n",
    "    for j in range(1,m-2):                                                      # Para todos los nodos en y.\n",
    "        temp       = (i-1) + (m-2)*(j-1)                                        # Se buscan los nodos que son frontera.\n",
    "        rhs[temp] += -(h**2)*f(x[i,j], y[i,j])                                  # Se agrega f al lado derecho."
   ]
  },
  {
   "attachments": {},
   "cell_type": "markdown",
   "metadata": {},
   "source": [
    "### Matriz de Diferencias Finitas\n",
    "Se ensambla la Matriz A, tridiagonal por bloques, de Diferencias Finitas."
   ]
  },
  {
   "cell_type": "code",
   "execution_count": null,
   "metadata": {},
   "outputs": [],
   "source": [
    "dB   = np.diag(4*np.ones(m-2))                                                  # Se hace una matriz diagonal con 4s.\n",
    "dBp1 = np.diag(1*np.ones((m-2)-1), k=1)                                         # Se hace una matriz identidad negativa inferior.\n",
    "dBm1 = np.diag(1*np.ones((m-2)-1), k=-1)                                        # Se hace una matriz identidad negativa superior.\n",
    "B    = (dB - dBp1 - dBm1)                                                       # Se ensamblan los bloques de la diagonal.\n",
    "I    = -np.identity(m-2)                                                        # Se hace una matriz identidad negativa.\n",
    "temp = 1                                                                        # Se inicializa un contador para guardar lo anterior en la matriz A.\n",
    "\n",
    "for i in range(0,(m-2)*(m-2),(m-2)):                                            # Para cada uno de los bloques.\n",
    "    A[i:temp*(m-2), i:temp*(m-2)] = B                                           # Se hace la diagonal interior de bloques B.\n",
    "    if temp*(m-2) < (m-2)*(m-2):                                                # Si estamos arriba o abajo de la diagonal interior.\n",
    "        A[temp*(m-2):temp*(m-2)+(m-2), i:temp*(m-2)] = I                        # Se pone una identidad negativa en la diagonal superior.\n",
    "        A[i:temp*(m-2), temp*(m-2):temp*(m-2)+(m-2)] = I                        # Se pone una identidad negativa en la diagonal inferior.\n",
    "    temp += 1                                                                   # Se aumenta el contador."
   ]
  },
  {
   "attachments": {},
   "cell_type": "markdown",
   "metadata": {},
   "source": [
    "### Resolver el problema\n",
    "Se resuelve el problema lineal\n",
    "\\begin{align}\n",
    "    Au = rhs\n",
    "\\end{align}\n",
    "\n",
    "Además de que se agregan las condiciones de frontera a la aproximación calculada."
   ]
  },
  {
   "cell_type": "code",
   "execution_count": null,
   "metadata": {},
   "outputs": [],
   "source": [
    "A  = np.linalg.pinv(A)                                                          # La inversa nos servirá para multiplicar por el lado derecho.\n",
    "u = A@rhs                                                                       # Se multiplica la inversa por el lado derecho.\n",
    "u = np.reshape(u, (m-2,m-2)).transpose()                                        # Se convierte el vector columna en matriz.\n",
    "\n",
    "phi_ap[1:(m-1), 1:(m-1)] = u                                                    # Se guarda la aproximación calculada dentro de phi_ap.\n",
    "for i in range(m):                                                              # Para todos los nodos.\n",
    "    phi_ap[i,0] = phi(x[i,0],y[i,0])                                            # Se guarda la condición de frontera x = 0 en la aproximación.\n",
    "    phi_ap[i,m-1] = phi(x[i,m-1],y[i,m-1])                                      # Se guarda la condición de frontera x = m en la aproximación.\n",
    "    phi_ap[0,i] = phi(x[0,i],y[0,i])                                            # Se guarda la condición de frontera y = 0 en la aproximación.\n",
    "    phi_ap[m-1,i] = phi(x[m-1,i],y[m-1,i])                                      # Se guarda la condición de frontera y = m en la aproximación."
   ]
  },
  {
   "attachments": {},
   "cell_type": "markdown",
   "metadata": {},
   "source": [
    "### Solución Exacta\n",
    "Se hace el cálculo de la solución exacta. En este caso, el problema toma como condiciones de frontera la solución exacta $\\phi$."
   ]
  },
  {
   "cell_type": "code",
   "execution_count": null,
   "metadata": {},
   "outputs": [],
   "source": [
    "for i in range(m):                                                              # Para cada uno de los elementos de la discretización en x.\n",
    "    for j in range(m):                                                          # Para cada uno de los elementos de la discretización en y.\n",
    "        phi_ex[i,j] = phi(x[i,j], y[i,j])                                       # Se asigna la solución exacta."
   ]
  },
  {
   "attachments": {},
   "cell_type": "markdown",
   "metadata": {},
   "source": [
    "### Graficación\n",
    "Se grafican la solución aproximada y la solución exacta lado a lado para ver que tan buena (o mala) es la aproximación."
   ]
  },
  {
   "cell_type": "code",
   "execution_count": null,
   "metadata": {},
   "outputs": [],
   "source": [
    "fig, (ax1, ax2) = plt.subplots(1, 2, subplot_kw={\"projection\": \"3d\"})           # Se hace una figura con dos figuras incrustadas.\n",
    "plt.rcParams[\"figure.figsize\"] = (10,5)                                         # Se define el tamaño de la figura principal.\n",
    "plt.suptitle('Ecuación de Poisson')                                             # Se pone un título a la figura principal.\n",
    "min  = phi_ex.min()                                                             # Se encuentra el valor mínimo de la solución para ajustar la gráfica.\n",
    "max  = phi_ex.max()                                                             # Se encuentra el valor máximo de la solución para ajustar la gráfica.\n",
    "\n",
    "ax1.set_title('Solución Aproximada')                                            # Se pone el título de la primera figura incrustada.\n",
    "ax1.plot_surface(x, y, phi_ap)                                                  # Se grafica la solución aproximada en la primera figura incrustada.\n",
    "ax1.set_zlim([min,max])                                                         # Se establecen los ejes de la gráfica.\n",
    "\n",
    "ax2.set_title('Solución Exacta')                                                # Se pone el título de la segunda figura incrustada.\n",
    "ax2.plot_surface(x, y, phi_ex)                                                  # Se grafica la solución exacta en la segunda figura incrustada.\n",
    "ax2.set_zlim([min,max])                                                         # Se establecen los ejes de la gráfica.\n",
    "plt.show()                                                                      # Se muestra la figura."
   ]
  },
  {
   "attachments": {},
   "cell_type": "markdown",
   "metadata": {},
   "source": [
    "## Poisson 2D Iterativo"
   ]
  },
  {
   "attachments": {},
   "cell_type": "markdown",
   "metadata": {},
   "source": [
    "### Inicialización de Variables\n",
    "Se inicializan algunas variables para la generación de la malla de la región en la cual se pretende resolver el problema y acelerar algunos cálculos."
   ]
  },
  {
   "cell_type": "code",
   "execution_count": null,
   "metadata": {},
   "outputs": [],
   "source": [
    "m      = 21                                                                     # Número de elementos que tendrá la discretización.\n",
    "x      = np.linspace(0,1,m)                                                     # Se hace la discretización en x del intervalo [0, 1].\n",
    "y      = np.linspace(0,1,m)                                                     # Se hace la discretización en y del intervalo [0, 1].\n",
    "h      = x[2] - x[1]                                                            # Se calcula h para el método de Diferencias Finitas.\n",
    "x, y   = np.meshgrid(x,y)                                                       # Se hace la malla de la región para trabajar [0,1]x[0,1].\n",
    "err    = 1                                                                      # Se inicializa una diferencia, err, en 1 para asegurarnos de que haga por lo menos una iteración.\n",
    "tol    = np.sqrt(np.finfo(float).eps)                                           # Se establece una tolerancia que será la raíz cuadrada del épsilon de la computadora.\n",
    "phi_ap = np.zeros([m,m])                                                        # Se inicializa la variable para la solución aproximada.\n",
    "phi_ex = np.zeros([m,m])                                                        # Se inicializa la respectiva variable con ceros."
   ]
  },
  {
   "attachments": {},
   "cell_type": "markdown",
   "metadata": {},
   "source": [
    "### Condiciones de Frontera\n",
    "\n",
    "Se deben de agregar las condiciones de frontera, para poder calcular correctamente la aproximación. En este caso, se debe de considerar que se tienen 4 fronteras diferentes."
   ]
  },
  {
   "cell_type": "code",
   "execution_count": null,
   "metadata": {},
   "outputs": [],
   "source": [
    "for i in range(m):                                                              # Se recorren todos los nodos de frontera.\n",
    "    phi_ap[i,0]  = phi(x[i,0], y[i,0])                                          # Se asigna el valor para la frontera derecha\n",
    "    phi_ap[i,-1] = phi(x[i,-1], y[i,-1])                                        # Se asigna el valor para la frontera izquierda\n",
    "    phi_ap[0,i]  = phi(x[0,i], y[0,i])                                          # Se asigna el valor para la frontera superior\n",
    "    phi_ap[-1,i] = phi(x[-1,i], y[-1,i])                                        # Se asigna el valor para la frontera inferior"
   ]
  },
  {
   "attachments": {},
   "cell_type": "markdown",
   "metadata": {},
   "source": [
    "### Resolver el problema\n",
    "En este caso, el problema se resolverá iterativamente, tomando en cuenta la tolerancia para el error cometido de itación en interación establecida anteriormente."
   ]
  },
  {
   "cell_type": "code",
   "execution_count": null,
   "metadata": {},
   "outputs": [],
   "source": [
    "while err >= tol:\n",
    "    err = 0\n",
    "    for i in range(1,m-1):\n",
    "        for j in range(1,m-1):\n",
    "            t = (1/4)*(phi_ap[i-1,j] + phi_ap[i+1,j] + \\\n",
    "                phi_ap[i,j-1] + phi_ap[i,j+1] - \\\n",
    "                h**2*f(x[i,j],y[i,j]))\n",
    "            err = max(err, abs(t - phi_ap[i,j]))\n",
    "            phi_ap[i,j] = t"
   ]
  },
  {
   "attachments": {},
   "cell_type": "markdown",
   "metadata": {},
   "source": [
    "### Solución Exacta\n",
    "Se hace el cálculo de la solución exacta. En este caso, el problema toma como condiciones de frontera la solución exacta $\\phi$."
   ]
  },
  {
   "cell_type": "code",
   "execution_count": null,
   "metadata": {},
   "outputs": [],
   "source": [
    "for i in range(m):                                                              # Para cada uno de los elementos de la discretización en x.\n",
    "    for j in range(m):                                                          # Para cada uno de los elementos de la discretización en y.\n",
    "        phi_ex[i,j] = phi(x[i,j], y[i,j])                                       # Se asigna la solución exacta."
   ]
  },
  {
   "attachments": {},
   "cell_type": "markdown",
   "metadata": {},
   "source": [
    "### Graficación\n",
    "Se grafican la solución aproximada y la solución exacta lado a lado para ver que tan buena (o mala) es la aproximación."
   ]
  },
  {
   "cell_type": "code",
   "execution_count": null,
   "metadata": {},
   "outputs": [],
   "source": [
    "fig, (ax1, ax2) = plt.subplots(1, 2, subplot_kw={\"projection\": \"3d\"})           # Se hace una figura con dos figuras incrustadas.\n",
    "plt.rcParams[\"figure.figsize\"] = (10,5)                                         # Se define el tamaño de la figura principal.\n",
    "plt.suptitle('Ecuación de Poisson')                                             # Se pone un título a la figura principal.\n",
    "min  = phi_ex.min()                                                             # Se encuentra el valor mínimo de la solución para ajustar la gráfica.\n",
    "max  = phi_ex.max()                                                             # Se encuentra el valor máximo de la solución para ajustar la gráfica.\n",
    "\n",
    "ax1.set_title('Solución Aproximada')                                            # Se pone el título de la primera figura incrustada.\n",
    "ax1.plot_surface(x, y, phi_ap)                                                  # Se grafica la solución aproximada en la primera figura incrustada.\n",
    "ax1.set_zlim([min,max])                                                         # Se establecen los ejes de la gráfica.\n",
    "\n",
    "ax2.set_title('Solución Exacta')                                                # Se pone el título de la segunda figura incrustada.\n",
    "ax2.plot_surface(x, y, phi_ex)                                                  # Se grafica la solución exacta en la segunda figura incrustada.\n",
    "ax2.set_zlim([min,max])                                                         # Se establecen los ejes de la gráfica.\n",
    "plt.show()                                                                      # Se muestra la figura."
   ]
  }
 ],
 "metadata": {
  "language_info": {
   "name": "python"
  },
  "orig_nbformat": 4
 },
 "nbformat": 4,
 "nbformat_minor": 2
}
